{
 "cells": [
  {
   "cell_type": "code",
   "execution_count": 133,
   "id": "8934d089-1eec-4259-a98b-62656fb7b0ef",
   "metadata": {},
   "outputs": [],
   "source": [
    "# dependencies\n",
    "import csv\n",
    "import os\n",
    "import pandas"
   ]
  },
  {
   "cell_type": "code",
   "execution_count": 135,
   "id": "d8f0fcf4-8f5c-441a-ac06-6a95604943ed",
   "metadata": {},
   "outputs": [],
   "source": [
    "# Files to load and output (update with correct file paths)\n",
    "file_to_load = os.path.join(\"/Users/makennavick/Data Science/python-challenge/PyBank\", \"Resources\", \"budget_data.csv\")  # Input file path\n",
    "file_to_output = os.path.join(\"/Users/makennavick/Data Science/python-challenge/PyBank\", \"analysis\", \"budget_analysis.txt\")  # Output file path\n"
   ]
  },
  {
   "cell_type": "code",
   "execution_count": 137,
   "id": "01c058a4-201a-4206-baa8-cde54e760c5c",
   "metadata": {},
   "outputs": [],
   "source": [
    "# Define variables to track the financial data\n",
    "total_months = 0\n",
    "total_net = 0\n",
    "\n",
    "# Add more variables to track other necessary financial data\n",
    "prev_month = 0\n",
    "max_increase = 0    # greatest increase in profits over the /entire/ period - incl date and amount\n",
    "max_decrease = 0    # greatest decrease in profits over the /entire/ period - incl date and amount\n",
    "net_change_list = []"
   ]
  },
  {
   "cell_type": "code",
   "execution_count": 139,
   "id": "f058aed2-ce93-4b7d-b561-8fabafab4bcc",
   "metadata": {},
   "outputs": [
    {
     "data": {
      "text/plain": [
       "22564198"
      ]
     },
     "execution_count": 139,
     "metadata": {},
     "output_type": "execute_result"
    }
   ],
   "source": [
    "# Open and read the csv\n",
    "with open(file_to_load, 'r', encoding='UTF-8') as financial_data:\n",
    "    reader = csv.reader(financial_data)\n",
    "\n",
    "    # Skip the header row\n",
    "    header = next(reader)\n",
    "    # first_row = next(reader) # this row: ['Jan-10', '1088983']\n",
    "\n",
    "\n",
    "    # Track the total and net change\n",
    "    for row in reader:\n",
    "        \n",
    "        row[1] = int(row[1])\n",
    "        month_to_month = row[1] - prev_month\n",
    "        total_net += row[1]\n",
    "        net_change_list.append(month_to_month) # month over month net change\n",
    "        prev_month = row[1]\n",
    "total_net"
   ]
  },
  {
   "cell_type": "code",
   "execution_count": 141,
   "id": "5da3d20a-afe4-45b0-953d-8aa267eb6be9",
   "metadata": {},
   "outputs": [
    {
     "name": "stdout",
     "output_type": "stream",
     "text": [
      "Biggest month:1862002, lowest month:-1825558, overall net:22564198\n"
     ]
    }
   ],
   "source": [
    "max_increase = max(net_change_list)\n",
    "max_decrease = min(net_change_list)\n",
    "print(f'Biggest month:{max_increase}, lowest month:{max_decrease}, overall net:{total_net}')"
   ]
  },
  {
   "cell_type": "code",
   "execution_count": 123,
   "id": "1ba1bb89-3381-46e7-abb2-2e39ad1b0e45",
   "metadata": {},
   "outputs": [],
   "source": [
    "avg_change = sum(net_change_list) / len(net_change_list)"
   ]
  },
  {
   "cell_type": "code",
   "execution_count": 125,
   "id": "a27d002f-c1a6-4b9b-9009-8ba0147210d4",
   "metadata": {},
   "outputs": [
    {
     "data": {
      "text/plain": [
       "4448.127906976744"
      ]
     },
     "execution_count": 125,
     "metadata": {},
     "output_type": "execute_result"
    }
   ],
   "source": [
    "avg_change"
   ]
  },
  {
   "cell_type": "code",
   "execution_count": 145,
   "id": "e9560929-6c90-4745-9d58-652a96c2f007",
   "metadata": {},
   "outputs": [
    {
     "data": {
      "text/plain": [
       "1088983"
      ]
     },
     "execution_count": 145,
     "metadata": {},
     "output_type": "execute_result"
    }
   ],
   "source": [
    "net_change_list[0]"
   ]
  },
  {
   "cell_type": "code",
   "execution_count": null,
   "id": "44662491-3d96-4ba4-9cf5-65ef35f8f594",
   "metadata": {},
   "outputs": [],
   "source": []
  }
 ],
 "metadata": {
  "kernelspec": {
   "display_name": "Python 3 (ipykernel)",
   "language": "python",
   "name": "python3"
  },
  "language_info": {
   "codemirror_mode": {
    "name": "ipython",
    "version": 3
   },
   "file_extension": ".py",
   "mimetype": "text/x-python",
   "name": "python",
   "nbconvert_exporter": "python",
   "pygments_lexer": "ipython3",
   "version": "3.12.4"
  }
 },
 "nbformat": 4,
 "nbformat_minor": 5
}
