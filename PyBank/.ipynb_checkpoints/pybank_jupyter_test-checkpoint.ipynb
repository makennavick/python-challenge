{
 "cells": [
  {
   "cell_type": "code",
   "execution_count": 1,
   "id": "8934d089-1eec-4259-a98b-62656fb7b0ef",
   "metadata": {},
   "outputs": [],
   "source": [
    "# dependencies\n",
    "import csv\n",
    "import os"
   ]
  },
  {
   "cell_type": "code",
   "execution_count": 7,
   "id": "d8f0fcf4-8f5c-441a-ac06-6a95604943ed",
   "metadata": {},
   "outputs": [],
   "source": [
    "# Files to load and output (update with correct file paths)\n",
    "file_to_load = os.path.join(\"/Users/makennavick/Data Science/python-challenge/PyBank\", \"Resources\", \"budget_data.csv\")  # Input file path\n",
    "file_to_output = os.path.join(\"/Users/makennavick/Data Science/python-challenge/PyBank\", \"analysis\", \"budget_analysis.txt\")  # Output file path\n"
   ]
  },
  {
   "cell_type": "code",
   "execution_count": 9,
   "id": "01c058a4-201a-4206-baa8-cde54e760c5c",
   "metadata": {},
   "outputs": [],
   "source": [
    "# Define variables to track the financial data\n",
    "total_months = 0\n",
    "total_net = 0\n",
    "\n",
    "# Add more variables to track other necessary financial data\n",
    "max_increase = 0    # greatest increase in profits over the /entire/ period - incl date and amount\n",
    "max_decrease = 0    # greatest decrease in profits over the /entire/ period - incl date and amount\n"
   ]
  },
  {
   "cell_type": "code",
   "execution_count": 17,
   "id": "f058aed2-ce93-4b7d-b561-8fabafab4bcc",
   "metadata": {},
   "outputs": [
    {
     "data": {
      "text/plain": [
       "['Jan-10', '1088983']"
      ]
     },
     "execution_count": 17,
     "metadata": {},
     "output_type": "execute_result"
    }
   ],
   "source": [
    "# Open and read the csv\n",
    "with open(file_to_load, 'r', encoding='UTF-8') as financial_data:\n",
    "    reader = csv.reader(financial_data)\n",
    "\n",
    "    # Skip the header row\n",
    "    header = next(reader)\n",
    "\n",
    "    # Extract first row to avoid appending to net_change_list\n",
    "    first_row = next(reader) # this has ['Jan-10', '1088983']\n",
    "\n",
    "    # Track the total and net change\n",
    "    for row in reader:\n",
    "        total_months += 1\n",
    "total_months\n",
    "first_row"
   ]
  },
  {
   "cell_type": "code",
   "execution_count": null,
   "id": "1ba1bb89-3381-46e7-abb2-2e39ad1b0e45",
   "metadata": {},
   "outputs": [],
   "source": []
  }
 ],
 "metadata": {
  "kernelspec": {
   "display_name": "Python 3 (ipykernel)",
   "language": "python",
   "name": "python3"
  },
  "language_info": {
   "codemirror_mode": {
    "name": "ipython",
    "version": 3
   },
   "file_extension": ".py",
   "mimetype": "text/x-python",
   "name": "python",
   "nbconvert_exporter": "python",
   "pygments_lexer": "ipython3",
   "version": "3.12.4"
  }
 },
 "nbformat": 4,
 "nbformat_minor": 5
}
