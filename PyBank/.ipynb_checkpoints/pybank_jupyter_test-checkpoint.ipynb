{
 "cells": [
  {
   "cell_type": "code",
   "execution_count": 82,
   "id": "8934d089-1eec-4259-a98b-62656fb7b0ef",
   "metadata": {},
   "outputs": [],
   "source": [
    "# dependencies\n",
    "import csv\n",
    "import os\n",
    "import pandas"
   ]
  },
  {
   "cell_type": "code",
   "execution_count": 84,
   "id": "d8f0fcf4-8f5c-441a-ac06-6a95604943ed",
   "metadata": {},
   "outputs": [],
   "source": [
    "# Files to load and output (update with correct file paths)\n",
    "file_to_load = os.path.join(\"/Users/makennavick/Data Science/python-challenge/PyBank\", \"Resources\", \"budget_data.csv\")  # Input file path\n",
    "file_to_output = os.path.join(\"/Users/makennavick/Data Science/python-challenge/PyBank\", \"analysis\", \"budget_analysis.txt\")  # Output file path\n"
   ]
  },
  {
   "cell_type": "code",
   "execution_count": 92,
   "id": "01c058a4-201a-4206-baa8-cde54e760c5c",
   "metadata": {},
   "outputs": [],
   "source": [
    "# Define variables to track the financial data\n",
    "total_months = 0\n",
    "total_net = 0\n",
    "\n",
    "# Add more variables to track other necessary financial data\n",
    "prev_month = 0\n",
    "max_increase = 0    # greatest increase in profits over the /entire/ period - incl date and amount\n",
    "max_decrease = 0    # greatest decrease in profits over the /entire/ period - incl date and amount\n",
    "net_change_list = []\n",
    "max_incr_month = 0\n",
    "max_decr_month = 0"
   ]
  },
  {
   "cell_type": "code",
   "execution_count": 94,
   "id": "f058aed2-ce93-4b7d-b561-8fabafab4bcc",
   "metadata": {},
   "outputs": [
    {
     "name": "stdout",
     "output_type": "stream",
     "text": [
      "Biggest month:1862002, lowest month:-1825558, overall net:22564198, months:0, 0\n"
     ]
    }
   ],
   "source": [
    "# Open and read the csv\n",
    "with open(file_to_load, 'r', encoding='UTF-8') as financial_data:\n",
    "    reader = csv.reader(financial_data)\n",
    "\n",
    "    # Skip the header row\n",
    "    header = next(reader)\n",
    "    # first_row = next(reader) # this row: ['Jan-10', '1088983']\n",
    "\n",
    "    # Track the total and net change\n",
    "    for row in reader:\n",
    "\n",
    "        # Recognize the second column values as integers\n",
    "        new_profit = int(row[1])\n",
    "\n",
    "        # Track the total number of months\n",
    "        total_months += 1 \n",
    "\n",
    "        # Track the net change\n",
    "        month_to_month = new_profit - prev_month # difference in profits since the previous month\n",
    "        net_change_list.append(month_to_month) # store the month-over-month change in a list\n",
    "        # DELETE THIS current_month_name = row[0] # What month are we in?\n",
    "        total_net += new_profit # track the overall net change\n",
    "        prev_month = new_profit # save this as the previous month's info before we move onto the next month\n",
    "\n",
    "    max_increase = max(net_change_list)\n",
    "    max_decrease = min(net_change_list)\n",
    "\n",
    "    net_change_dictionary = {}\n",
    "    \n",
    "    for i, value in enumerate(net_change_list, start=0):\n",
    "        net_change_dictionary[i] = value\n",
    "    # for row in reader:\n",
    "    #         if int(row[1]) == max_increase:\n",
    "    #             max_incr_month = row[0]\n",
    "    #         elif int(row[1]) == max_decrease:\n",
    "    #             max_decr_month = row[0]\n",
    "    #         else:\n",
    "    #             pass\n",
    "    \n",
    "    \n",
    "    \n",
    "    # test to see if the numbers are accurate\n",
    "    print(f'Biggest month:{max_increase}, lowest month:{max_decrease}, overall net:{total_net}, months:{max_incr_month}, {max_decr_month}')\n",
    "    \n"
   ]
  },
  {
   "cell_type": "code",
   "execution_count": 66,
   "id": "5da3d20a-afe4-45b0-953d-8aa267eb6be9",
   "metadata": {},
   "outputs": [
    {
     "name": "stdout",
     "output_type": "stream",
     "text": [
      "Biggest month:1862002, lowest month:-1825558, overall net:22564198\n"
     ]
    },
    {
     "ename": "ValueError",
     "evalue": "I/O operation on closed file.",
     "output_type": "error",
     "traceback": [
      "\u001b[0;31m---------------------------------------------------------------------------\u001b[0m",
      "\u001b[0;31mValueError\u001b[0m                                Traceback (most recent call last)",
      "Cell \u001b[0;32mIn[66], line 4\u001b[0m\n\u001b[1;32m      2\u001b[0m max_decrease \u001b[38;5;241m=\u001b[39m \u001b[38;5;28mmin\u001b[39m(net_change_list)\n\u001b[1;32m      3\u001b[0m \u001b[38;5;28mprint\u001b[39m(\u001b[38;5;124mf\u001b[39m\u001b[38;5;124m'\u001b[39m\u001b[38;5;124mBiggest month:\u001b[39m\u001b[38;5;132;01m{\u001b[39;00mmax_increase\u001b[38;5;132;01m}\u001b[39;00m\u001b[38;5;124m, lowest month:\u001b[39m\u001b[38;5;132;01m{\u001b[39;00mmax_decrease\u001b[38;5;132;01m}\u001b[39;00m\u001b[38;5;124m, overall net:\u001b[39m\u001b[38;5;132;01m{\u001b[39;00mtotal_net\u001b[38;5;132;01m}\u001b[39;00m\u001b[38;5;124m'\u001b[39m)\n\u001b[0;32m----> 4\u001b[0m \u001b[38;5;28;01mfor\u001b[39;00m row \u001b[38;5;129;01min\u001b[39;00m reader:\n\u001b[1;32m      5\u001b[0m         \u001b[38;5;28;01mif\u001b[39;00m \u001b[38;5;28mint\u001b[39m(row[\u001b[38;5;241m1\u001b[39m]) \u001b[38;5;241m==\u001b[39m max_increase:\n\u001b[1;32m      6\u001b[0m             max_incr_month \u001b[38;5;241m=\u001b[39m row[\u001b[38;5;241m0\u001b[39m]\n",
      "\u001b[0;31mValueError\u001b[0m: I/O operation on closed file."
     ]
    }
   ],
   "source": []
  },
  {
   "cell_type": "code",
   "execution_count": 54,
   "id": "1ba1bb89-3381-46e7-abb2-2e39ad1b0e45",
   "metadata": {},
   "outputs": [],
   "source": [
    "avg_change = (sum(net_change_list) / (total_months - 1 ))"
   ]
  },
  {
   "cell_type": "code",
   "execution_count": 56,
   "id": "a27d002f-c1a6-4b9b-9009-8ba0147210d4",
   "metadata": {},
   "outputs": [
    {
     "data": {
      "text/plain": [
       "4554.035714285715"
      ]
     },
     "execution_count": 56,
     "metadata": {},
     "output_type": "execute_result"
    }
   ],
   "source": [
    "avg_change"
   ]
  },
  {
   "cell_type": "code",
   "execution_count": 46,
   "id": "e9560929-6c90-4745-9d58-652a96c2f007",
   "metadata": {},
   "outputs": [
    {
     "data": {
      "text/plain": [
       "1088983"
      ]
     },
     "execution_count": 46,
     "metadata": {},
     "output_type": "execute_result"
    }
   ],
   "source": [
    "net_change_list[0]"
   ]
  },
  {
   "cell_type": "code",
   "execution_count": 60,
   "id": "44662491-3d96-4ba4-9cf5-65ef35f8f594",
   "metadata": {},
   "outputs": [
    {
     "name": "stdout",
     "output_type": "stream",
     "text": [
      "Financial Analysis\n",
      "        ----------------------------\n",
      "        Total Months: 85\n",
      "        Total: $21475215\n",
      "        Average Change: $4554.035714285715\n",
      "        Greatest Increase in Profits: DATE 1862002 # Aug-16 ($1862002)\n",
      "        Greatest Decrease in Profits: DATE -1825558 # Feb-14 ($-1825558)\n"
     ]
    }
   ],
   "source": [
    "print(f\"\"\"Financial Analysis\n",
    "        ----------------------------\n",
    "        Total Months: {total_months}\n",
    "        Total: ${total_net}\n",
    "        Average Change: ${avg_change}\n",
    "        Greatest Increase in Profits: DATE {max_increase} # Aug-16 ($1862002)\n",
    "        Greatest Decrease in Profits: DATE {max_decrease} # Feb-14 ($-1825558)\"\"\")"
   ]
  },
  {
   "cell_type": "code",
   "execution_count": null,
   "id": "12a53ae0-e420-4e83-9580-58fde15179de",
   "metadata": {},
   "outputs": [],
   "source": []
  }
 ],
 "metadata": {
  "kernelspec": {
   "display_name": "Python 3 (ipykernel)",
   "language": "python",
   "name": "python3"
  },
  "language_info": {
   "codemirror_mode": {
    "name": "ipython",
    "version": 3
   },
   "file_extension": ".py",
   "mimetype": "text/x-python",
   "name": "python",
   "nbconvert_exporter": "python",
   "pygments_lexer": "ipython3",
   "version": "3.12.4"
  }
 },
 "nbformat": 4,
 "nbformat_minor": 5
}
